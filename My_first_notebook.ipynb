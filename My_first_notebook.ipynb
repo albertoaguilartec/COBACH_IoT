{
  "cells": [
    {
      "cell_type": "code",
      "execution_count": 2,
      "id": "6687e013",
      "metadata": {
        "id": "6687e013",
        "outputId": "12dfc25e-432c-4ffa-de4e-dc54380cfd97",
        "colab": {
          "base_uri": "https://localhost:8080/"
        }
      },
      "outputs": [
        {
          "output_type": "stream",
          "name": "stdout",
          "text": [
            "Hola mundo\n",
            "Agregando código\n"
          ]
        }
      ],
      "source": [
        "print(\"Hola mundo\")\n",
        "print(\"Agregando código\")"
      ]
    },
    {
      "cell_type": "code",
      "execution_count": null,
      "id": "fe18de65",
      "metadata": {
        "id": "fe18de65"
      },
      "outputs": [],
      "source": []
    }
  ],
  "metadata": {
    "kernelspec": {
      "display_name": "Python 3",
      "language": "python",
      "name": "python3"
    },
    "language_info": {
      "codemirror_mode": {
        "name": "ipython",
        "version": 3
      },
      "file_extension": ".py",
      "mimetype": "text/x-python",
      "name": "python",
      "nbconvert_exporter": "python",
      "pygments_lexer": "ipython3",
      "version": "3.12.1"
    },
    "colab": {
      "provenance": []
    }
  },
  "nbformat": 4,
  "nbformat_minor": 5
}